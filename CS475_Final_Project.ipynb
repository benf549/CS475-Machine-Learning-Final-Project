{
 "cells": [
  {
   "cell_type": "code",
   "execution_count": 1,
   "id": "1eb48e33-5953-4da9-9ca2-06aaf4c7694b",
   "metadata": {},
   "outputs": [
    {
     "name": "stdout",
     "output_type": "stream",
     "text": [
      "Requirement already satisfied: spotipy in /home/ben/miniconda3/envs/PyRosetta.notebooks/lib/python3.7/site-packages (2.19.0)\n",
      "Requirement already satisfied: urllib3>=1.26.0 in /home/ben/miniconda3/envs/PyRosetta.notebooks/lib/python3.7/site-packages (from spotipy) (1.26.6)\n",
      "Requirement already satisfied: six>=1.15.0 in /home/ben/miniconda3/envs/PyRosetta.notebooks/lib/python3.7/site-packages (from spotipy) (1.16.0)\n",
      "Requirement already satisfied: requests>=2.25.0 in /home/ben/miniconda3/envs/PyRosetta.notebooks/lib/python3.7/site-packages (from spotipy) (2.26.0)\n",
      "Requirement already satisfied: charset-normalizer~=2.0.0; python_version >= \"3\" in /home/ben/miniconda3/envs/PyRosetta.notebooks/lib/python3.7/site-packages (from requests>=2.25.0->spotipy) (2.0.4)\n",
      "Requirement already satisfied: idna<4,>=2.5; python_version >= \"3\" in /home/ben/miniconda3/envs/PyRosetta.notebooks/lib/python3.7/site-packages (from requests>=2.25.0->spotipy) (3.2)\n",
      "Requirement already satisfied: certifi>=2017.4.17 in /home/ben/miniconda3/envs/PyRosetta.notebooks/lib/python3.7/site-packages (from requests>=2.25.0->spotipy) (2021.5.30)\n",
      "Note: you may need to restart the kernel to use updated packages.\n"
     ]
    }
   ],
   "source": [
    "%pip install spotipy"
   ]
  },
  {
   "cell_type": "code",
   "execution_count": 2,
   "id": "5f541536-9dbc-4bb1-88fd-dc7c7a27ff85",
   "metadata": {},
   "outputs": [],
   "source": [
    "import numpy as np\n",
    "import matplotlib.pyplot as plt\n",
    "import json\n",
    "\n",
    "import spotipy\n",
    "from spotipy.oauth2 import SpotifyOAuth \n",
    "import os"
   ]
  },
  {
   "cell_type": "code",
   "execution_count": 3,
   "id": "03ce6738-a459-4af7-9536-012ba2f2ca73",
   "metadata": {},
   "outputs": [
    {
     "data": {
      "text/plain": [
       "256"
      ]
     },
     "execution_count": 3,
     "metadata": {},
     "output_type": "execute_result"
    }
   ],
   "source": [
    "os.system(\"unzip dataset.zip\")"
   ]
  },
  {
   "cell_type": "code",
   "execution_count": 4,
   "id": "36f13489-081b-453d-828b-c9e7ad045746",
   "metadata": {},
   "outputs": [],
   "source": [
    "data_stream = \"\"\n",
    "with open(\"challenge_set.json\", \"r\") as f:\n",
    "    data_stream = f.read()\n",
    "    \n",
    "data_set = json.loads(data_stream)"
   ]
  },
  {
   "cell_type": "code",
   "execution_count": 5,
   "id": "006805ec-a461-48a1-9cea-b725eca5aaa4",
   "metadata": {
    "scrolled": true,
    "tags": []
   },
   "outputs": [],
   "source": [
    "track_uris = set()\n",
    "for i,j in enumerate(data_set[\"playlists\"]):\n",
    "    if len(j[\"tracks\"]) == 100:\n",
    "        for track in j[\"tracks\"]:\n",
    "            track_uris.add((track[\"track_name\"], track[\"artist_name\"], track[\"track_uri\"]))"
   ]
  },
  {
   "cell_type": "code",
   "execution_count": 6,
   "id": "dc098487-ee39-431d-8652-7c2719ce7371",
   "metadata": {
    "scrolled": true,
    "tags": []
   },
   "outputs": [
    {
     "data": {
      "text/plain": [
       "[('Atomic Man', 'Portugal. The Man', 'spotify:track:43QhrhgRrH9NWy6eoUro4X'),\n",
       " ('Climb (Live)', 'Will Reagan', 'spotify:track:72Tx4MaGamjzs9btWnQlFZ'),\n",
       " (\"California Dreamin'\", 'Sia', 'spotify:track:2Zw1UciFQWTbyMLSVJjdWX'),\n",
       " ('Awake and Alive', 'Skillet', 'spotify:track:0nkzd3yNniB767zSDDdLZ3'),\n",
       " ('Easy Target', 'blink-182', 'spotify:track:4OVQGNnqSoojEd4otegakp'),\n",
       " ('Once In A Lifetime Love',\n",
       "  'Alan Jackson',\n",
       "  'spotify:track:0l1btIU422DIklWTiS9Rcn'),\n",
       " ('A Marshmallow World',\n",
       "  'Arthur Godfrey',\n",
       "  'spotify:track:6ktgY0VWjWZuJNxaTQKYTX'),\n",
       " ('Eyes Wide Open',\n",
       "  'Sabrina Carpenter',\n",
       "  'spotify:track:7KdWkoKZwX7pKSl7OL7b4l'),\n",
       " ('New Thang', 'Redfoo', 'spotify:track:5hGSM1NIumwLgI0Y97X9xB'),\n",
       " ('My Space', 'Unified Highway', 'spotify:track:6WWexNZqiJn8RKEnLzckDk'),\n",
       " (\"Can't Get Enough\", 'J. Cole', 'spotify:track:20wR5XQpaL1uvVY8gmc4uY'),\n",
       " ('48 Laws', 'Omen', 'spotify:track:5YppmH6ZGLpW9dwnOZsSAD'),\n",
       " ('I Lived - Arty Remix',\n",
       "  'OneRepublic',\n",
       "  'spotify:track:4jEB3KAsjmNSQGQmQk4Ii8'),\n",
       " ('Stop This Train', 'John Mayer', 'spotify:track:3E6iea9uEmB7gRru4lyP6h'),\n",
       " ('Are You What You Want to Be?',\n",
       "  'Foster The People',\n",
       "  'spotify:track:3CVPyuuD6HxWXgPbbGqbg6'),\n",
       " ('Santa Tell Me', 'Ariana Grande', 'spotify:track:1ADjWm8QNhgNV8yCNNgQ1T'),\n",
       " ('Blessed Redeemer',\n",
       "  'Casting Crowns',\n",
       "  'spotify:track:2AD1iPNwsV3Th0QI2Va4jb'),\n",
       " (\"Love's Train\", 'Con Funk Shun', 'spotify:track:5ReLn6xM8EtJkIFpv3tfmE'),\n",
       " ('Blow Me Away - Featuring Valora',\n",
       "  'Breaking Benjamin',\n",
       "  'spotify:track:6wDVNn4STCopwfQ9lFO2iR'),\n",
       " ('It’s Only', 'ODESZA', 'spotify:track:3XpriBFRWfjCGz3VeIx1zT'),\n",
       " ('Stick Stickly', 'Attack Attack!', 'spotify:track:3QienJ6IMsUD8Mo24vITBg'),\n",
       " ('The Formula (feat. Tech N9ne, Krizz Kaliko)',\n",
       "  'Rittz',\n",
       "  'spotify:track:5mTbpbdBqzrpLlKXvsoexK'),\n",
       " ('Are You Leaving With Him',\n",
       "  'Luke Bryan',\n",
       "  'spotify:track:7ANGDTK3FvcxW2cXElMDoQ'),\n",
       " ('The Star Spangled Banner - Live from Super Bowl XXV',\n",
       "  'Whitney Houston',\n",
       "  'spotify:track:5qByPJHfbssZpbUzhgpDCG'),\n",
       " ('Band On The Run - Remastered 2010',\n",
       "  'Paul McCartney',\n",
       "  'spotify:track:1H4idkmruFoJBg1DvUv2tY'),\n",
       " ('Out The Way', 'Vell', 'spotify:track:4Ee90q64O8Vabdv3lWlJRQ'),\n",
       " ('Uncomfortable', 'Mansa', 'spotify:track:7qdfQMpIUOwsIKTM69XVyW'),\n",
       " ('Damn Drunk', 'Ronnie Dunn', 'spotify:track:3XxtBBMexPb3RRVHPzTgNR'),\n",
       " ('Pigskin', 'Hollywood Undead', 'spotify:track:1AbfwrYWymIkhormcKhbfj'),\n",
       " ('21 M◊◊N WATER', 'Bon Iver', 'spotify:track:3mAyjnYIWLeDixdNO6Joz6'),\n",
       " ('Jingle Bells?', 'Barbra Streisand', 'spotify:track:4GpbETZDAVJfuFAKU14NZD'),\n",
       " ('Two Step', 'Kartell', 'spotify:track:7axS7LTdvIzvG9qg2Ya4Gd'),\n",
       " ('Heart Attack', 'Demi Lovato', 'spotify:track:1V6gIisPpYqgFeWbMLI0bA'),\n",
       " ('Converse High', 'BTS', 'spotify:track:61fAsfrYO5xUNTMwWQ0Xwu'),\n",
       " ('Yeah', 'T.I.', 'spotify:track:0F7M5RQDT0PDIfxe3rV9oY'),\n",
       " ('One Time', 'Migos', 'spotify:track:4NwfHcBSQ604NUvEMvHstw'),\n",
       " ('Voices', 'Disclosure', 'spotify:track:5qrfyPM4s9VG0WpEKBEWrZ'),\n",
       " ('Collide', 'Jake Miller', 'spotify:track:4TyroqnSj0YkpZ9rf2Skq7'),\n",
       " ('Never Mess With Sunday', 'Yppah', 'spotify:track:1sotD6Cn8aOtUsL0bd5HTJ'),\n",
       " ('Self-Made', 'Bryson Tiller', 'spotify:track:2rUwQj4SWaP2anuGDtNpYR'),\n",
       " ('Everything Unsaid',\n",
       "  'Joshua Hyslop',\n",
       "  'spotify:track:0Cb6UmfocBWqAb37s2n3pi'),\n",
       " ('Lightning Bugs And Rain',\n",
       "  'Whiskey Myers',\n",
       "  'spotify:track:5dx3iBLyv3k8OARNZl0DSz'),\n",
       " ('Shorty Be Mine', 'Pretty Ricky', 'spotify:track:1vV3KL5bDNfUlD83DiiqYX'),\n",
       " ('I Follow You',\n",
       "  \"Melody's Echo Chamber\",\n",
       "  'spotify:track:3EEzQDCP8jRl2pEt9eDKMO'),\n",
       " ('There Is A Santa Claus',\n",
       "  'Matthew Gumley, Beth Leavel',\n",
       "  'spotify:track:5mC78j9lJhVES7fJ0kfG1S'),\n",
       " ('Nobody Else', 'Destructo', 'spotify:track:1K8QE76RFJRvHjt4xsnL9j'),\n",
       " ('Make You Feel - Hotel Garuda Remix',\n",
       "  'Alina Baraz',\n",
       "  'spotify:track:00uwXg2FZT4zzw2YKZxRlf'),\n",
       " ('Annie Wants A Baby',\n",
       "  'Red Hot Chili Peppers',\n",
       "  'spotify:track:5j2S6N5qJNQgafjWNfXlII'),\n",
       " ('A Heartbreak',\n",
       "  'Angus & Julia Stone',\n",
       "  'spotify:track:1WCmZkJyFSD7zE5uxiwdvQ'),\n",
       " ('Amen', 'Edens Edge', 'spotify:track:0cunAi5FhuVTMMIE9XfqfP')]"
      ]
     },
     "execution_count": 6,
     "metadata": {},
     "output_type": "execute_result"
    }
   ],
   "source": [
    "fifty_songs = list(track_uris)[:50]\n",
    "fifty_songs"
   ]
  },
  {
   "cell_type": "code",
   "execution_count": 7,
   "id": "d675eab2-aa6d-485b-a30f-84efe1cbd8ac",
   "metadata": {},
   "outputs": [],
   "source": [
    "# Unsafe API Key Information OK because this is a burner acount... probably don't push to a public git repo though\n",
    "API_USERNAME=\"0fdf4ffb7cad4650b9a22ea9cd6f4b8c\"\n",
    "API_KEY=\"e94b06ba10f844fb87f3c1b2018d79c3\"\n",
    "REDIRECT_URI=\"http://localhost:8080\"\n",
    "\n",
    "# Create API Access Client (May Require Sign In - Link should be logged in terminal...)\n",
    "sp = spotipy.Spotify(auth_manager=SpotifyOAuth(\n",
    "    client_id=API_USERNAME,\n",
    "    client_secret=API_KEY,\n",
    "    redirect_uri=REDIRECT_URI\n",
    "))"
   ]
  },
  {
   "cell_type": "markdown",
   "id": "0a81f337-7004-4c18-a992-63f464bc8f48",
   "metadata": {},
   "source": [
    "The `sp.track`/`sp.tracks` endpoint gets information about the track (ex the artist, link to a preview, and a lot more).\n",
    "\n",
    "The `sp.audio_features` endpoint gets the danceability/energy/acousticness/etc... ie the primary features we can use for our analysis.\n",
    "\n",
    "The `sp.audio_analysis` endpoint contains more information about the song like timbre/mode/key/fadeout-duration/etc... more music theory-y features."
   ]
  },
  {
   "cell_type": "code",
   "execution_count": 8,
   "id": "58f956ab-132b-4d10-84e7-48c19eb3894c",
   "metadata": {},
   "outputs": [
    {
     "name": "stdout",
     "output_type": "stream",
     "text": [
      "Atomic Man - Portugal. The Man\n",
      "[{'danceability': 0.63, 'energy': 0.736, 'key': 10, 'loudness': -7.302, 'mode': 0, 'speechiness': 0.0384, 'acousticness': 0.0507, 'instrumentalness': 0.00244, 'liveness': 0.109, 'valence': 0.919, 'tempo': 137.948, 'type': 'audio_features', 'id': '43QhrhgRrH9NWy6eoUro4X', 'uri': 'spotify:track:43QhrhgRrH9NWy6eoUro4X', 'track_href': 'https://api.spotify.com/v1/tracks/43QhrhgRrH9NWy6eoUro4X', 'analysis_url': 'https://api.spotify.com/v1/audio-analysis/43QhrhgRrH9NWy6eoUro4X', 'duration_ms': 227253, 'time_signature': 4}]\n",
      "\n",
      "Climb (Live) - Will Reagan\n",
      "[{'danceability': 0.443, 'energy': 0.25, 'key': 7, 'loudness': -12.679, 'mode': 1, 'speechiness': 0.0311, 'acousticness': 0.717, 'instrumentalness': 0.000172, 'liveness': 0.0964, 'valence': 0.283, 'tempo': 136.166, 'type': 'audio_features', 'id': '72Tx4MaGamjzs9btWnQlFZ', 'uri': 'spotify:track:72Tx4MaGamjzs9btWnQlFZ', 'track_href': 'https://api.spotify.com/v1/tracks/72Tx4MaGamjzs9btWnQlFZ', 'analysis_url': 'https://api.spotify.com/v1/audio-analysis/72Tx4MaGamjzs9btWnQlFZ', 'duration_ms': 575400, 'time_signature': 4}]\n",
      "\n",
      "California Dreamin' - Sia\n",
      "[{'danceability': 0.291, 'energy': 0.635, 'key': 4, 'loudness': -6.846, 'mode': 0, 'speechiness': 0.0371, 'acousticness': 0.275, 'instrumentalness': 2.69e-05, 'liveness': 0.334, 'valence': 0.294, 'tempo': 111.852, 'type': 'audio_features', 'id': '2Zw1UciFQWTbyMLSVJjdWX', 'uri': 'spotify:track:2Zw1UciFQWTbyMLSVJjdWX', 'track_href': 'https://api.spotify.com/v1/tracks/2Zw1UciFQWTbyMLSVJjdWX', 'analysis_url': 'https://api.spotify.com/v1/audio-analysis/2Zw1UciFQWTbyMLSVJjdWX', 'duration_ms': 216147, 'time_signature': 4}]\n",
      "\n"
     ]
    }
   ],
   "source": [
    "for i in range(3):\n",
    "    print(fifty_songs[i][0], \"-\", fifty_songs[i][1])\n",
    "    print(sp.audio_features(fifty_songs[i][2]))\n",
    "    print()"
   ]
  },
  {
   "cell_type": "code",
   "execution_count": 9,
   "id": "518edfa3-30f7-464a-8405-4a5f1139aeed",
   "metadata": {
    "tags": []
   },
   "outputs": [],
   "source": [
    "#sp.tracks(fifty_songs)"
   ]
  },
  {
   "cell_type": "code",
   "execution_count": null,
   "id": "a1af43c6-853f-4a5c-85a7-cc7d7f8b78aa",
   "metadata": {},
   "outputs": [],
   "source": []
  }
 ],
 "metadata": {
  "kernelspec": {
   "display_name": "Python 3 (ipykernel)",
   "language": "python",
   "name": "python3"
  },
  "language_info": {
   "codemirror_mode": {
    "name": "ipython",
    "version": 3
   },
   "file_extension": ".py",
   "mimetype": "text/x-python",
   "name": "python",
   "nbconvert_exporter": "python",
   "pygments_lexer": "ipython3",
   "version": "3.7.6"
  }
 },
 "nbformat": 4,
 "nbformat_minor": 5
}
