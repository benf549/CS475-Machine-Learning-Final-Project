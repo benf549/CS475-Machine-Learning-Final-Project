{
 "cells": [
  {
   "cell_type": "code",
   "execution_count": 10,
   "id": "1c1189ff-61d2-48b2-91fd-f68de345d8ee",
   "metadata": {},
   "outputs": [],
   "source": [
    "import json, torch\n",
    "import pandas as pd\n",
    "import numpy as np\n",
    "import matplotlib.pyplot as plt\n",
    "import torch.nn.functional as F\n",
    "from scipy.sparse import csr_matrix"
   ]
  },
  {
   "cell_type": "code",
   "execution_count": 11,
   "id": "52f5fe60-e132-4482-b76e-4702a92fdbe8",
   "metadata": {
    "scrolled": true,
    "tags": []
   },
   "outputs": [
    {
     "name": "stdout",
     "output_type": "stream",
     "text": [
      "spotify:track:0cZS0qVwDadhqzmrDd2QUe ('Push', 'Enrique Iglesias')\n",
      "spotify:track:70OrTBlb0RLKNfxWE6fZZM ('Let It Be Christmas', 'Alan Jackson')\n",
      "spotify:track:30yMeJ0TDEiMWMRBuWVQah ('Ivo', 'Maxence Cyrin')\n",
      "spotify:track:0sQ3DlfuQZozaOnAS1r4yG ('Porn Star Dancing - Bonus Track', 'My Darkest Days')\n",
      "spotify:track:73pbvYLtPlT6frmLHAmPV8 ('Covered N Money', 'Future')\n",
      "spotify:track:65N2jXm9IZeSLaGM6G65YE ('Three Empty Words', 'Shawn Mendes')\n",
      "spotify:track:1JrxRBUBjTwGPvuuUVEc5E ('All Our Lives', 'Andrew McMahon in the Wilderness')\n",
      "spotify:track:6YRZngBVAy2FgUQWk3lwL1 ('Lyrics to Go', 'A Tribe Called Quest')\n",
      "spotify:track:0zstgBrV1t1g6n4jHrUVBY ('Gaston - From \"Beauty and the Beast\" / Soundtrack Version', 'Richard White')\n",
      "spotify:track:3cDE9Yn4GrsxSrlMCLdmTT ('Love Like Winter', 'AFI')\n",
      "spotify:track:6qL8tweXFMqztcMwNB4r7y ('Something Kinda Funny', 'Spice Girls')\n",
      "spotify:track:193ZaXTaD0dPz66pUYS3SQ ('Pink Rabbits', 'The National')\n",
      "spotify:track:5s9sZ2i76iAZeFt5f9uUKP ('Lightning Bolt', 'Jake Bugg')\n",
      "spotify:track:4NU6Vnrsh09TdZtIBYBwTA ('Walk On By', 'Isaac Hayes')\n",
      "spotify:track:3nHbQNMuGuEtIVhPGVfFbF ('Better Things', 'A$AP Rocky')\n",
      "spotify:track:79FMVy7Jjfu2igaxm5cy9F ('SEPT 5TH', 'dvsn')\n",
      "spotify:track:6nxlHmpBJYicXHC0mvcKOm ('Cat Scratch Fever', 'Ted Nugent')\n",
      "spotify:track:2MPm4hkjWls5jlenlRWKcT ('Tu Me Salvaste', 'Maná')\n",
      "spotify:track:6LhGzSZlIGxZpyIXXZn9ZV ('Dive In', 'Pierce The Veil')\n",
      "spotify:track:3UgJYPZP6dSEELZ9BkyjMG ('She Doesnt Know', 'Stayleave')\n",
      "spotify:track:3hgzEGrm5iTY6pkgJ827qX ('Anklebiters', 'Paramore')\n"
     ]
    }
   ],
   "source": [
    "# Read in the JSON data\n",
    "data_stream = \"\"\n",
    "with open(\"challenge_set.json\", \"r\") as f:\n",
    "    data_stream = f.read()\n",
    "data_set = json.loads(data_stream)\n",
    "\n",
    "\n",
    "# Grab unique track/artist pairs\n",
    "track_uris = set()\n",
    "playlist_idcs = []\n",
    "\n",
    "for i,j in enumerate(data_set[\"playlists\"]):\n",
    "    if len(j[\"tracks\"]) == 100:\n",
    "        playlist_idcs.append(i) \n",
    "        for track in j[\"tracks\"]:\n",
    "            track_uris.add((track[\"track_name\"], track[\"artist_name\"], track[\"track_uri\"]))\n",
    "unique_tracks = list(track_uris)\n",
    "\n",
    "# Define mapping between URIs and trakcs\n",
    "uri_to_title_artist_map = {x[2]: (x[0], x[1]) for x in unique_tracks}\n",
    "for i,(j,k) in enumerate(uri_to_title_artist_map.items()):\n",
    "    if i > 20: break\n",
    "    print(j,k)"
   ]
  },
  {
   "cell_type": "code",
   "execution_count": 23,
   "id": "803fffd2-82d0-488c-af68-47bb067cfb61",
   "metadata": {},
   "outputs": [
    {
     "name": "stdout",
     "output_type": "stream",
     "text": [
      "                                      danceability  energy  key  loudness  \\\n",
      "uri                                                                         \n",
      "spotify:track:38uqMByifM0mkjcTbejlyR         0.375   0.294    8    -8.751   \n",
      "spotify:track:4kOTDj4SiZPkW1p96WMDNv         0.950   0.803    1    -4.195   \n",
      "spotify:track:1c9LBfX0klXJscJAYDI0Ea         0.758   0.501    0    -7.051   \n",
      "spotify:track:59iNA6gwthoTJ6IgpBGGHW         0.534   0.749    6    -5.562   \n",
      "spotify:track:4QCng4MDyUhEZ730Ma2Rjp         0.674   0.744   11    -5.196   \n",
      "\n",
      "                                      mode  speechiness  acousticness  \\\n",
      "uri                                                                     \n",
      "spotify:track:38uqMByifM0mkjcTbejlyR     1       0.0329        0.9280   \n",
      "spotify:track:4kOTDj4SiZPkW1p96WMDNv     1       0.1510        0.1450   \n",
      "spotify:track:1c9LBfX0klXJscJAYDI0Ea     1       0.0589        0.2520   \n",
      "spotify:track:59iNA6gwthoTJ6IgpBGGHW     0       0.0749        0.0776   \n",
      "spotify:track:4QCng4MDyUhEZ730Ma2Rjp     1       0.2740        0.0238   \n",
      "\n",
      "                                      instrumentalness  liveness  valence  \\\n",
      "uri                                                                         \n",
      "spotify:track:38uqMByifM0mkjcTbejlyR          0.000000    0.1900    0.125   \n",
      "spotify:track:4kOTDj4SiZPkW1p96WMDNv          0.000000    0.0748    0.860   \n",
      "spotify:track:1c9LBfX0klXJscJAYDI0Ea          0.000000    0.1910    0.397   \n",
      "spotify:track:59iNA6gwthoTJ6IgpBGGHW          0.000001    0.0906    0.671   \n",
      "spotify:track:4QCng4MDyUhEZ730Ma2Rjp          0.000000    0.3300    0.624   \n",
      "\n",
      "                                        tempo            type  \\\n",
      "uri                                                             \n",
      "spotify:track:38uqMByifM0mkjcTbejlyR   95.128  audio_features   \n",
      "spotify:track:4kOTDj4SiZPkW1p96WMDNv  117.000  audio_features   \n",
      "spotify:track:1c9LBfX0klXJscJAYDI0Ea   78.042  audio_features   \n",
      "spotify:track:59iNA6gwthoTJ6IgpBGGHW  179.975  audio_features   \n",
      "spotify:track:4QCng4MDyUhEZ730Ma2Rjp  154.086  audio_features   \n",
      "\n",
      "                                                          id  \\\n",
      "uri                                                            \n",
      "spotify:track:38uqMByifM0mkjcTbejlyR  38uqMByifM0mkjcTbejlyR   \n",
      "spotify:track:4kOTDj4SiZPkW1p96WMDNv  4kOTDj4SiZPkW1p96WMDNv   \n",
      "spotify:track:1c9LBfX0klXJscJAYDI0Ea  1c9LBfX0klXJscJAYDI0Ea   \n",
      "spotify:track:59iNA6gwthoTJ6IgpBGGHW  59iNA6gwthoTJ6IgpBGGHW   \n",
      "spotify:track:4QCng4MDyUhEZ730Ma2Rjp  4QCng4MDyUhEZ730Ma2Rjp   \n",
      "\n",
      "                                                                             track_href  \\\n",
      "uri                                                                                       \n",
      "spotify:track:38uqMByifM0mkjcTbejlyR  https://api.spotify.com/v1/tracks/38uqMByifM0m...   \n",
      "spotify:track:4kOTDj4SiZPkW1p96WMDNv  https://api.spotify.com/v1/tracks/4kOTDj4SiZPk...   \n",
      "spotify:track:1c9LBfX0klXJscJAYDI0Ea  https://api.spotify.com/v1/tracks/1c9LBfX0klXJ...   \n",
      "spotify:track:59iNA6gwthoTJ6IgpBGGHW  https://api.spotify.com/v1/tracks/59iNA6gwthoT...   \n",
      "spotify:track:4QCng4MDyUhEZ730Ma2Rjp  https://api.spotify.com/v1/tracks/4QCng4MDyUhE...   \n",
      "\n",
      "                                                                           analysis_url  \\\n",
      "uri                                                                                       \n",
      "spotify:track:38uqMByifM0mkjcTbejlyR  https://api.spotify.com/v1/audio-analysis/38uq...   \n",
      "spotify:track:4kOTDj4SiZPkW1p96WMDNv  https://api.spotify.com/v1/audio-analysis/4kOT...   \n",
      "spotify:track:1c9LBfX0klXJscJAYDI0Ea  https://api.spotify.com/v1/audio-analysis/1c9L...   \n",
      "spotify:track:59iNA6gwthoTJ6IgpBGGHW  https://api.spotify.com/v1/audio-analysis/59iN...   \n",
      "spotify:track:4QCng4MDyUhEZ730Ma2Rjp  https://api.spotify.com/v1/audio-analysis/4QCn...   \n",
      "\n",
      "                                      duration_ms  time_signature  \n",
      "uri                                                                \n",
      "spotify:track:38uqMByifM0mkjcTbejlyR       161573               4  \n",
      "spotify:track:4kOTDj4SiZPkW1p96WMDNv       213066               4  \n",
      "spotify:track:1c9LBfX0klXJscJAYDI0Ea       194147               4  \n",
      "spotify:track:59iNA6gwthoTJ6IgpBGGHW       212160               4  \n",
      "spotify:track:4QCng4MDyUhEZ730Ma2Rjp       262400               4  \n"
     ]
    }
   ],
   "source": [
    "# Rearranging data table\n",
    "df = pd.read_csv(\"all_downloaded_data.csv\")\n",
    "df = df.drop(\"Unnamed: 0\", axis=1)\n",
    "df = df.set_index('uri')\n",
    "# df = df.iloc[:, :11]\n",
    "df = df.drop_duplicates()\n",
    "\n",
    "print(df.head())"
   ]
  },
  {
   "cell_type": "markdown",
   "id": "688e4b45",
   "metadata": {},
   "source": [
    "Example of uri_to_title_artist_map usage and characterize dataset"
   ]
  },
  {
   "cell_type": "code",
   "execution_count": 13,
   "id": "ea6f0e89-d28e-4a2a-880e-815163c085fc",
   "metadata": {},
   "outputs": [
    {
     "name": "stdout",
     "output_type": "stream",
     "text": [
      "53552\n",
      "2000 total playlists\n",
      "53550 total songs\n"
     ]
    }
   ],
   "source": [
    "# Validate map use\n",
    "uri_to_title_artist_map[\"spotify:track:38uqMByifM0mkjcTbejlyR\"]\n",
    "\n",
    "# Demonstrate data size\n",
    "print(len(unique_tracks))\n",
    "print(len(playlist_idcs), \"total playlists\")\n",
    "print(df.shape[0], \"total songs\")"
   ]
  },
  {
   "cell_type": "markdown",
   "id": "5959a559",
   "metadata": {},
   "source": [
    "Defining playlist membership relationships for tracks"
   ]
  },
  {
   "cell_type": "code",
   "execution_count": 14,
   "id": "562c80b0-cc58-4620-ae6f-16e28cac545a",
   "metadata": {},
   "outputs": [
    {
     "name": "stdout",
     "output_type": "stream",
     "text": [
      "Avg song is in 3.695492231849417 playlists\n"
     ]
    }
   ],
   "source": [
    "membership_mtx = np.load(\"playlist_membership_data.npy\")\n",
    "membership_lbls = np.load(\"playlist_membership_labels.npy\")\n",
    "print(\"Avg song is in\", np.mean(np.sum(membership_mtx, axis=1)), \"playlists\")\n",
    "\n",
    "# Remove mostercat songs that don't exist.\n",
    "filtered_mtx = membership_mtx\n",
    "filtered_lbls = membership_lbls\n",
    "for idx, i in enumerate(filtered_lbls):\n",
    "    if i[2] == \"spotify:track:5CmMyiq4um2aFhiLZ1rPWo\":\n",
    "        filtered_mtx = np.delete(filtered_mtx, idx, axis=0)\n",
    "        filtered_lbls = np.delete(filtered_lbls, idx, axis=0)\n",
    "        \n",
    "for idx, i in enumerate(filtered_lbls):\n",
    "    if i[2] == \"spotify:track:4mjgNE8R31AzxWfPNGtVMf\":\n",
    "        filtered_mtx = np.delete(filtered_mtx, idx, axis=0)\n",
    "        filtered_lbls = np.delete(filtered_lbls, idx, axis=0)"
   ]
  },
  {
   "cell_type": "code",
   "execution_count": 15,
   "id": "4328eb50-59f7-4799-9547-e95e251cc780",
   "metadata": {},
   "outputs": [
    {
     "name": "stdout",
     "output_type": "stream",
     "text": [
      "(53550, 2000)\n",
      "(53550, 53550)\n",
      "(53550, 53550)\n"
     ]
    }
   ],
   "source": [
    "# This is a super sparse matrix, so use csr format to save space.\n",
    "test = csr_matrix(filtered_mtx)\n",
    "frequency_csr_mtx = test @ test.T\n",
    "print(test.shape)\n",
    "print(frequency_csr_mtx.shape)\n",
    "\n",
    "dense_data = frequency_csr_mtx.todense()\n",
    "print(dense_data.shape)"
   ]
  },
  {
   "cell_type": "code",
   "execution_count": null,
   "id": "6a5f5f3f",
   "metadata": {},
   "outputs": [],
   "source": [
    "def "
   ]
  },
  {
   "cell_type": "code",
   "execution_count": 25,
   "id": "4a0d5c30-38f6-472f-aace-12e5cbe8b0dc",
   "metadata": {},
   "outputs": [
    {
     "name": "stdout",
     "output_type": "stream",
     "text": [
      "dev\n",
      "(10710, 11)\n",
      "(10710,)\n",
      "[32596  8665 25344 ... 51327 11786 31505]\n",
      "[ 9127 18429 24424 ... 22636 34203  5383]\n",
      "[12928  3612  7958 ... 14448  5149  5734]\n",
      "[32596 25344 18939 ... 10141 10402 22840]\n",
      "test\n",
      "(5355, 10)\n",
      "(5355,)\n",
      "train\n",
      "(37485, 10)\n",
      "(37485,)\n"
     ]
    }
   ],
   "source": [
    "# Create Dev and Test Data\n",
    "data_size = dense_data.shape[0]\n",
    "test_dev_idcs = np.random.choice(data_size, replace=False, size=int(0.3*data_size))\n",
    "\n",
    "# Select indices of test/dev indices of filtered data to be used for dev\n",
    "dev_idcs = np.random.choice(test_dev_idcs.shape[0], replace=False, size=int((2/3) * test_dev_idcs.shape[0]))\n",
    "selected_dev_labels = filtered_lbls[test_dev_idcs[dev_idcs]]\n",
    "dev_data = df.loc[selected_dev_labels[:, 2]]\n",
    "dev_data = dev_data.iloc[:, 0:11].to_numpy()\n",
    "dev_labels = np.array(np.max(dense_data[dev_idcs], axis=1).T)[0]\n",
    "print(\"dev\")\n",
    "print(dev_data.shape)\n",
    "print(dev_labels.shape)\n",
    "\n",
    "# Delete dev indices from test/dev indices of filtered data to keep test indices of filtered data\n",
    "test_idcs = np.delete(test_dev_idcs, dev_idcs, axis=0)\n",
    "selected_test_labels = filtered_lbls[test_idcs]\n",
    "test_data = df.loc[selected_test_labels[:, 2]]\n",
    "test_data = test_data.iloc[:, 0:11].to_numpy()\n",
    "test_labels = np.array(np.max(dense_data[test_idcs], axis=1).T)[0]\n",
    "print(\"test\")\n",
    "print(test_data.shape)\n",
    "print(test_labels.shape)\n",
    "\n",
    "# Create Training Data\n",
    "train_idcs = np.delete(np.arange(df.shape[0]), test_dev_idcs, axis=0)\n",
    "selected_train_lbls = np.delete(filtered_lbls, test_dev_idcs, axis=0)\n",
    "train_data = df.loc[selected_train_lbls[:,2]]\n",
    "train_data = train_data.iloc[:, 0:11].to_numpy()\n",
    "train_labels = np.array(np.max(np.delete(dense_data, test_dev_idcs, axis=0), axis=1).T)[0]\n",
    "print(\"train\")\n",
    "print(train_data.shape)\n",
    "print(train_labels.shape)"
   ]
  },
  {
   "cell_type": "code",
   "execution_count": 17,
   "id": "bc1771f3-4a1d-426c-b820-8bd7a9c3375a",
   "metadata": {},
   "outputs": [],
   "source": [
    "def normalize(data):\n",
    "    col_means = data.mean(axis=0)\n",
    "    col_std = data.std(axis=0)\n",
    "    return (data - col_means) / col_std\n",
    "\n",
    "train_data = normalize(train_data)\n",
    "dev_data = normalize(dev_data)\n",
    "test_data = normalize(test_data)"
   ]
  },
  {
   "cell_type": "code",
   "execution_count": 18,
   "id": "8bd02b0e-f42f-457d-a4d1-77cfb60aba72",
   "metadata": {},
   "outputs": [],
   "source": [
    "lr = 0.01\n",
    "batch_size = 100\n",
    "epochs = 100"
   ]
  },
  {
   "cell_type": "code",
   "execution_count": 19,
   "id": "a838551d-4b8e-483a-a408-bd0660674a1c",
   "metadata": {},
   "outputs": [],
   "source": [
    "class RecommenderNet(torch.nn.Module):\n",
    "    ### Implement your model's structure and input/filter/output dimensions\n",
    "    def __init__(self, num_songs):\n",
    "        super().__init__()\n",
    "        self.lm1 = torch.nn.Linear(10, 1000)\n",
    "#         self.lm2 = torch.nn.Linear(100, 1000)\n",
    "        self.lm3 = torch.nn.Linear(1000, num_songs)\n",
    "        \n",
    "        self.num_songs = num_songs\n",
    "\n",
    "    def forward(self, x):\n",
    "        x = torch.tanh(self.lm1(x))\n",
    "#         x = torch.tanh(self.lm2(x))\n",
    "        x = self.lm3(x)\n",
    "        return x"
   ]
  },
  {
   "cell_type": "code",
   "execution_count": 20,
   "id": "31ca2db6-25f9-48c3-8d84-a3c8a558429c",
   "metadata": {},
   "outputs": [
    {
     "name": "stdout",
     "output_type": "stream",
     "text": [
      "0.0% 192.42999267578125, 83.49099731445312\n",
      "10.0% 52.08000183105469, 93.8583984375\n",
      "20.0% 81.86000061035156, 91.74459838867188\n",
      "30.0% 70.5999984741211, 85.57959747314453\n",
      "40.0% 61.77000045776367, 82.99739837646484\n",
      "50.0% 58.45000076293945, 81.59400177001953\n",
      "60.0% 66.7300033569336, 93.75360107421875\n",
      "70.0% 17.889999389648438, 81.7656021118164\n",
      "80.0% 138.27999877929688, 83.3781967163086\n",
      "90.0% 89.5999984741211, 88.28759765625\n"
     ]
    }
   ],
   "source": [
    "number_of_songs = df.shape[0] \n",
    "\n",
    "model = RecommenderNet(number_of_songs)\n",
    "optimizer = torch.optim.Adam(model.parameters(), lr=lr)\n",
    "\n",
    "train_steps = []\n",
    "train_losses = []\n",
    "dev_steps = []\n",
    "dev_losses = []\n",
    "\n",
    "for step in range(epochs):\n",
    "    i = np.random.choice(train_data.shape[0], size=batch_size, replace=False)\n",
    "    x = torch.from_numpy(train_data[i].astype(np.float32))\n",
    "    y = torch.from_numpy(train_labels[i].astype(np.float32))\n",
    "    idcs = train_idcs[i]\n",
    "    \n",
    "    prediction_idcs = model(x)\n",
    "    pred_freq = np.array(dense_data[idcs, prediction_idcs.argmax(axis=1)])[0]\n",
    "    test = torch.from_numpy(pred_freq.astype(np.float32))\n",
    "    test.requires_grad = True\n",
    "    loss = F.mse_loss(test, y) \n",
    "    \n",
    "    optimizer.zero_grad()\n",
    "    loss.backward()\n",
    "    optimizer.step()\n",
    "    \n",
    "    train_steps.append(step)\n",
    "    train_losses.append(loss.item())\n",
    "    \n",
    "    if step % 10 == 0:\n",
    "        dev_i = np.random.choice(dev_data.shape[0], size=5000, replace=False)\n",
    "        dev_d = torch.from_numpy(dev_data[dev_i].astype(np.float32))\n",
    "        dev_l = torch.from_numpy(dev_labels[dev_i].astype(np.float32))\n",
    "        dev_idc = dev_idcs[dev_i]\n",
    "        \n",
    "        dev_pred = model(dev_d)\n",
    "        pred_freq = np.array(dense_data[dev_idc, dev_pred.argmax(axis=1)])[0]\n",
    "        dev = torch.from_numpy(pred_freq.astype(np.float32))\n",
    "        dev_loss = F.mse_loss(dev, dev_l)\n",
    "        \n",
    "        dev_steps.append(step)\n",
    "        dev_losses.append(dev_loss.item())\n",
    "        \n",
    "        print(f\"{(step/epochs) * 100:0.1f}% {loss.item()}, {dev_loss.item()}\")\n",
    "    "
   ]
  },
  {
   "cell_type": "code",
   "execution_count": 21,
   "id": "156cacb8-19d2-436f-911e-89404b0d4e0b",
   "metadata": {},
   "outputs": [
    {
     "data": {
      "text/plain": [
       "Text(0.5, 0, 'step')"
      ]
     },
     "execution_count": 21,
     "metadata": {},
     "output_type": "execute_result"
    },
    {
     "data": {
      "image/png": "[encoded data removed]",
      "text/plain": [
       "<Figure size 432x288 with 1 Axes>"
      ]
     },
     "metadata": {
      "needs_background": "light"
     },
     "output_type": "display_data"
    }
   ],
   "source": [
    "plt.plot(train_steps, train_losses)\n",
    "plt.plot(dev_steps, dev_losses)\n",
    "plt.ylabel(\"Loss\")\n",
    "plt.xlabel(\"step\")"
   ]
  },
  {
   "cell_type": "code",
   "execution_count": null,
   "id": "87a956f1-7451-461f-abe7-38d53c5a7a86",
   "metadata": {},
   "outputs": [],
   "source": []
  }
 ],
 "metadata": {
  "interpreter": {
   "hash": "ba4b06a3f1ced55e901636c89005dc280628d44375424d70300ad05d2cacd8bb"
  },
  "kernelspec": {
   "display_name": "local-venv",
   "language": "python",
   "name": "python3"
  },
  "language_info": {
   "codemirror_mode": {
    "name": "ipython",
    "version": 3
   },
   "file_extension": ".py",
   "mimetype": "text/x-python",
   "name": "python",
   "nbconvert_exporter": "python",
   "pygments_lexer": "ipython3",
   "version": "3.8.8"
  }
 },
 "nbformat": 4,
 "nbformat_minor": 5
}
